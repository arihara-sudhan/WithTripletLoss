{
 "cells": [
  {
   "cell_type": "markdown",
   "id": "9e1a0c8f",
   "metadata": {},
   "source": [
    "# IMPORT REQUIRED LIBRARIES"
   ]
  },
  {
   "cell_type": "code",
   "execution_count": 3,
   "id": "41f25cc1",
   "metadata": {},
   "outputs": [],
   "source": [
    "import torch\n",
    "from torch.utils.data import Dataset,DataLoader\n",
    "import torch.nn as nn\n",
    "from torch.optim import Adam,lr_scheduler\n",
    "import torch.nn.functional as F\n",
    "from torchvision.datasets import ImageFolder\n",
    "from torchvision import transforms\n",
    "from PIL import Image\n",
    "import os\n",
    "import random\n",
    "import time"
   ]
  },
  {
   "cell_type": "code",
   "execution_count": 4,
   "id": "056dceac",
   "metadata": {},
   "outputs": [],
   "source": []
  },
  {
   "cell_type": "markdown",
   "id": "16825b47",
   "metadata": {},
   "source": [
    "# CUSTOMIZE THE DATASET INTO TRIPLETS"
   ]
  },
  {
   "cell_type": "code",
   "execution_count": 2,
   "id": "fb142a8c",
   "metadata": {},
   "outputs": [
    {
     "data": {
      "text/plain": [
       "('./Datasets/DOCS/train/news_article/augmented_2_905.jpg',\n",
       " 2,\n",
       " 'news_article',\n",
       " './Datasets/DOCS/train/news_article/augmented_2_916.jpg',\n",
       " 2,\n",
       " 'news_article',\n",
       " './Datasets/DOCS/train/email/augmented_1_286.jpg',\n",
       " 0,\n",
       " 'email')"
      ]
     },
     "execution_count": 2,
     "metadata": {},
     "output_type": "execute_result"
    }
   ],
   "source": [
    "import random\n",
    "import os\n",
    "\n",
    "class Triplet:\n",
    "    def __init__(self, train_folder):\n",
    "        self.train_folder = train_folder\n",
    "        self.labels = os.listdir(train_folder)\n",
    "        self.label_to_path = {label: os.path.join(train_folder, label) for label in self.labels}\n",
    "    \n",
    "    def get_triplet(self):\n",
    "        anchor_label = random.choice(self.labels)\n",
    "        anchor_path = random.choice(os.listdir(self.label_to_path[anchor_label]))\n",
    "        positive_label = anchor_label\n",
    "        positive_path = random.choice(os.listdir(self.label_to_path[positive_label]))\n",
    "        negative_label = random.choice([label for label in self.labels if label != anchor_label])\n",
    "        negative_path = random.choice(os.listdir(self.label_to_path[negative_label]))\n",
    "        \n",
    "        anchor_image = os.path.join(self.label_to_path[anchor_label], anchor_path)\n",
    "        positive_image = os.path.join(self.label_to_path[positive_label], positive_path)\n",
    "        negative_image = os.path.join(self.label_to_path[negative_label], negative_path)\n",
    "        \n",
    "        # Get label number and name\n",
    "        anchor_label_num = self.labels.index(anchor_label)\n",
    "        positive_label_num = self.labels.index(positive_label)\n",
    "        negative_label_num = self.labels.index(negative_label)\n",
    "        \n",
    "        return anchor_image, anchor_label_num, anchor_label, positive_image, positive_label_num, positive_label, negative_image, negative_label_num, negative_label\n",
    "\n",
    "Triplet(\"./Datasets/DOCS/train\").get_triplet()"
   ]
  },
  {
   "cell_type": "code",
   "execution_count": 3,
   "id": "88febc20",
   "metadata": {},
   "outputs": [],
   "source": [
    "class Triplet:\n",
    "    def __init__(self, train_folder):\n",
    "        self.train_folder = train_folder\n",
    "        self.labels = os.listdir(train_folder)\n",
    "        self.label_to_path = {label: os.path.join(train_folder, label) for label in self.labels}\n",
    "    \n",
    "    def get_triplet(self):\n",
    "        anchor_label = random.choice(self.labels)\n",
    "        anchor_path = random.choice(os.listdir(self.label_to_path[anchor_label]))\n",
    "        positive_label = anchor_label\n",
    "        positive_path = random.choice(os.listdir(self.label_to_path[positive_label]))\n",
    "        negative_label = random.choice([label for label in self.labels if label != anchor_label])\n",
    "        negative_path = random.choice(os.listdir(self.label_to_path[negative_label]))\n",
    "        \n",
    "        anchor_image = os.path.join(self.label_to_path[anchor_label], anchor_path)\n",
    "        positive_image = os.path.join(self.label_to_path[positive_label], positive_path)\n",
    "        negative_image = os.path.join(self.label_to_path[negative_label], negative_path)\n",
    "        \n",
    "        return anchor_image, positive_image, negative_image\n",
    "\n"
   ]
  },
  {
   "cell_type": "code",
   "execution_count": 4,
   "id": "f1b0fe44",
   "metadata": {},
   "outputs": [],
   "source": [
    "class TripletDataset(Dataset):\n",
    "    def __init__(self, train_folder, transform=None):\n",
    "        self.triplet_generator = Triplet(train_folder)\n",
    "        self.transform = transform\n",
    "\n",
    "    def __len__(self):\n",
    "        return 10014\n",
    "\n",
    "    def __getitem__(self, index):\n",
    "        anchor_image, positive_image, negative_image = self.triplet_generator.get_triplet()\n",
    "        anchor = self._load_image(anchor_image)\n",
    "        positive = self._load_image(positive_image)\n",
    "        negative = self._load_image(negative_image)\n",
    "        return anchor, positive, negative\n",
    "\n",
    "    def _load_image(self, image_path):\n",
    "        image = Image.open(image_path).convert(\"RGB\")\n",
    "        if self.transform is not None:\n",
    "            image = self.transform(image)\n",
    "        return image\n",
    "\n",
    "    def get_triplet_names(self, index):\n",
    "        anchor_image, positive_image, negative_image = self.triplet_generator.get_triplet()\n",
    "        return anchor_image, positive_image, negative_image"
   ]
  },
  {
   "cell_type": "code",
   "execution_count": null,
   "id": "2a4bbef6",
   "metadata": {},
   "outputs": [],
   "source": []
  },
  {
   "cell_type": "markdown",
   "id": "6425f8ea",
   "metadata": {},
   "source": [
    "# DATALOADER"
   ]
  },
  {
   "cell_type": "code",
   "execution_count": 5,
   "id": "ea142528",
   "metadata": {},
   "outputs": [],
   "source": [
    "transform = transforms.Compose([\n",
    "    transforms.Grayscale(),  # Convert image to grayscale\n",
    "    transforms.ToTensor(),\n",
    "])"
   ]
  },
  {
   "cell_type": "code",
   "execution_count": 6,
   "id": "b91b0da0",
   "metadata": {},
   "outputs": [],
   "source": [
    "bs = 128\n",
    "train_folder = \"./Datasets/DOCS/train\"\n",
    "dataset = TripletDataset(train_folder, transform=transform)\n",
    "trainloader = DataLoader(dataset, batch_size=bs, shuffle=True)"
   ]
  },
  {
   "cell_type": "code",
   "execution_count": 7,
   "id": "d0645c97",
   "metadata": {},
   "outputs": [
    {
     "data": {
      "text/plain": [
       "79"
      ]
     },
     "execution_count": 7,
     "metadata": {},
     "output_type": "execute_result"
    }
   ],
   "source": [
    "len(trainloader)"
   ]
  },
  {
   "cell_type": "markdown",
   "id": "c53265e2",
   "metadata": {},
   "source": [
    "# SIMILARITY CHECKING WITH A MODEL"
   ]
  },
  {
   "cell_type": "code",
   "execution_count": 8,
   "id": "bdfdfada",
   "metadata": {},
   "outputs": [],
   "source": [
    "class EmbeddingNet(nn.Module):\n",
    "    def __init__(self):\n",
    "        super(EmbeddingNet, self).__init__()\n",
    "        self.convnet = nn.Sequential(\n",
    "            nn.Conv2d(1, 32, 5),\n",
    "            nn.PReLU(),\n",
    "            nn.MaxPool2d(2, stride=2),\n",
    "            nn.Conv2d(32, 64, 5),\n",
    "            nn.PReLU(),\n",
    "            nn.MaxPool2d(2, stride=2)\n",
    "        )\n",
    "\n",
    "        self.fc = nn.Sequential(\n",
    "            nn.Linear(64 * 53 * 53, 256),\n",
    "            nn.PReLU(),\n",
    "            nn.Linear(256, 256),\n",
    "            nn.PReLU(),\n",
    "            nn.Linear(256, 2)\n",
    "        )\n",
    "\n",
    "    def forward(self, x):\n",
    "        output = self.convnet(x)\n",
    "        output = output.view(output.size()[0], -1)\n",
    "        output = self.fc(output)\n",
    "        return output\n",
    "\n",
    "    def get_embedding(self, x):\n",
    "        return self.forward(x)\n"
   ]
  },
  {
   "cell_type": "code",
   "execution_count": 9,
   "id": "ccfa87db",
   "metadata": {},
   "outputs": [],
   "source": [
    "emb = EmbeddingNet()"
   ]
  },
  {
   "cell_type": "markdown",
   "id": "9db15154",
   "metadata": {},
   "source": [
    "# TRIPLET WRAPPER"
   ]
  },
  {
   "cell_type": "code",
   "execution_count": 10,
   "id": "6180752b",
   "metadata": {},
   "outputs": [],
   "source": [
    "class TripletNet(nn.Module):\n",
    "    def __init__(self, embedding_net):\n",
    "        super(TripletNet, self).__init__()\n",
    "        self.embedding_net = embedding_net\n",
    "\n",
    "    def forward(self, x1, x2=None, x3=None):\n",
    "        if x2 is None and x3 is None:\n",
    "            return self.embedding_net(x1)\n",
    "        return self.embedding_net(x1),self.embedding_net(x2),self.embedding_net(x3)\n",
    "\n",
    "    def get_embedding(self, x):\n",
    "        return self.embedding_net(x)"
   ]
  },
  {
   "cell_type": "markdown",
   "id": "b897b20e",
   "metadata": {},
   "source": [
    "# TRIPLET LOSS"
   ]
  },
  {
   "cell_type": "code",
   "execution_count": 11,
   "id": "b3133e84",
   "metadata": {},
   "outputs": [],
   "source": [
    "class TripletLoss(nn.Module):\n",
    "    def __init__(self, margin):\n",
    "        super(TripletLoss, self).__init__()\n",
    "        self.margin = margin\n",
    "    def forward(self, anchor, positive, negative, size_average=True):\n",
    "        distance_positive = (anchor - positive).pow(2).sum(1)  # .pow(.5)\n",
    "        distance_negative = (anchor - negative).pow(2).sum(1)  # .pow(.5)\n",
    "        losses = F.relu(distance_positive - distance_negative + self.margin)\n",
    "        return losses.mean() if size_average else losses.sum()\n"
   ]
  },
  {
   "cell_type": "code",
   "execution_count": 12,
   "id": "e733c549",
   "metadata": {},
   "outputs": [],
   "source": [
    "device = torch.device(\"cuda\" if torch.cuda.is_available() else \"cpu\")\n",
    "model = TripletNet(emb)\n",
    "model = model.to(device)\n",
    "margin = 1\n",
    "lr = 0.0001\n",
    "n_epochs = 7\n",
    "optimizer = Adam(model.parameters(), lr=lr)\n",
    "loss_fn = TripletLoss(margin)"
   ]
  },
  {
   "cell_type": "markdown",
   "id": "ec37e76b",
   "metadata": {},
   "source": [
    "# TRAIN"
   ]
  },
  {
   "cell_type": "code",
   "execution_count": 13,
   "id": "87023e72",
   "metadata": {},
   "outputs": [],
   "source": [
    "def fit(model, num_epochs, train_loader,bs):\n",
    "    for epoch in range(n_epochs):\n",
    "        start = time.time()\n",
    "        model.train()\n",
    "        train_loss = 0.0\n",
    "        for idx, batch in enumerate(train_loader):\n",
    "            anchor, positive, negative = batch\n",
    "            anchor = anchor.to(device)\n",
    "            positive = positive.to(device)\n",
    "            negative = negative.to(device)\n",
    "            optimizer.zero_grad()\n",
    "            anchor_embedding, positive_embedding, negative_embedding = model(anchor, positive, negative)\n",
    "            anchor_embedding.requires_grad_(True)\n",
    "            positive_embedding.requires_grad_(True)\n",
    "            negative_embedding.requires_grad_(True)\n",
    "            loss = loss_fn(anchor_embedding, positive_embedding, negative_embedding)\n",
    "            loss.backward()\n",
    "            optimizer.step()\n",
    "            train_loss += loss.item()\n",
    "            print(f\"({idx + 1}).  LOSS : {loss.item()}  SEEN : {bs * (idx + 1)}/{len(train_loader.dataset)}\")\n",
    "\n",
    "        print(f\"Epoch {epoch + 1}/{n_epochs}, Train Loss: {train_loss / len(train_loader):.4f}, TIME: {time.time()-start}\")"
   ]
  },
  {
   "cell_type": "code",
   "execution_count": 14,
   "id": "d86a8153",
   "metadata": {
    "scrolled": true
   },
   "source": [
    "fit(model,n_epochs,trainloader,bs)"
   ]
  },
  {
   "cell_type": "code",
   "execution_count": 15,
   "id": "23b0912c",
   "metadata": {},
   "outputs": [],
   "source": [
    "def evaluate_model(model, triplet_test_loader):\n",
    "    model.eval()\n",
    "    correct = 0\n",
    "    total = 0\n",
    "    start = time.time()\n",
    "    with torch.no_grad():\n",
    "        for (anchor, positive, negative) in triplet_test_loader:\n",
    "            anchor_embedding, positive_embedding, negative_embedding = model(anchor, positive, negative)\n",
    "            distance_positive = torch.norm(anchor_embedding - positive_embedding, dim=1)\n",
    "            distance_negative = torch.norm(anchor_embedding - negative_embedding, dim=1)\n",
    "            correct += torch.sum(distance_positive < distance_negative).item()\n",
    "            total += anchor.size(0)\n",
    "    accuracy = correct / total\n",
    "    print(accuracy,time.time()-start)"
   ]
  },
  {
   "cell_type": "code",
   "execution_count": 16,
   "id": "7161fbdf",
   "metadata": {},
   "outputs": [],
   "source": [
    "test_folder = \"./Datasets/DOCS/test\"\n",
    "test_dataset = TripletDataset(test_folder, transform=transform)\n",
    "testloader = DataLoader(test_dataset, batch_size=128, shuffle=False)"
   ]
  },
  {
   "cell_type": "code",
   "execution_count": 17,
   "id": "8dea346c",
   "metadata": {},
   "outputs": [
    {
     "data": {
      "text/plain": [
       "7"
      ]
     },
     "execution_count": 17,
     "metadata": {},
     "output_type": "execute_result"
    }
   ],
   "source": [
    "len(testloader)"
   ]
  },
  {
   "cell_type": "markdown",
   "id": "7cd80590",
   "metadata": {},
   "source": [
    "# TESTING ACCURACY"
   ]
  },
  {
   "cell_type": "code",
   "execution_count": 31,
   "id": "4f402307",
   "metadata": {},
   "outputs": [
    {
     "name": "stdout",
     "output_type": "stream",
     "text": [
      "0.9925925925925926 28.17751383781433\n"
     ]
    }
   ],
   "source": [
    "evaluate_model(model,testloader)"
   ]
  },
  {
   "cell_type": "code",
   "execution_count": 33,
   "id": "bbef6b1f",
   "metadata": {},
   "outputs": [],
   "source": [
    "torch.save(model,\"Models/tripletDOC.pt\")"
   ]
  },
  {
   "cell_type": "code",
   "execution_count": 18,
   "id": "e8381998",
   "metadata": {},
   "outputs": [],
   "source": [
    "model_loaded = torch.load(\"Models/tripletDOC.pt\")"
   ]
  },
  {
   "cell_type": "markdown",
   "id": "14be0ee7",
   "metadata": {},
   "source": [
    "# EVALUATING WITH FAISS"
   ]
  },
  {
   "cell_type": "code",
   "execution_count": 19,
   "id": "8e29983b",
   "metadata": {},
   "outputs": [],
   "source": [
    "from torchvision.datasets import ImageFolder\n",
    "from torchvision.transforms import transforms\n",
    "from torch.utils.data import DataLoader\n",
    "\n",
    "train_folder = \"./Datasets/DOCS/train\"\n",
    "test_folder = \"./Datasets/DOCS/test\"\n",
    "\n",
    "# Create the ImageFolder datasets for train and test folders\n",
    "train_dataset = ImageFolder(train_folder, transform=transform)\n",
    "test_dataset = ImageFolder(test_folder, transform=transform)\n",
    "\n",
    "train_dataloader = DataLoader(train_dataset, shuffle=True)\n",
    "test_dataloader = DataLoader(test_dataset, shuffle=False)\n"
   ]
  },
  {
   "cell_type": "code",
   "execution_count": 20,
   "id": "70ac8a33",
   "metadata": {},
   "outputs": [],
   "source": [
    "import faiss"
   ]
  },
  {
   "cell_type": "code",
   "execution_count": 21,
   "id": "00b53a53",
   "metadata": {},
   "source": [
    "embs1 = None\n",
    "labels1 = []\n",
    "for idx,i in enumerate(train_dataloader):\n",
    "    print(idx)\n",
    "    I, L = i\n",
    "    labels1.append(L.item())\n",
    "    emb = model_loaded(I) # Assuming `model_loaded(I)` returns a PyTorch tensor\n",
    "    emb = emb.detach()\n",
    "    if embs1 is None:\n",
    "        embs1 = emb\n",
    "    else:\n",
    "        embs1 = torch.cat((embs1, emb), dim=0)"
   ]
  },
  {
   "cell_type": "code",
   "execution_count": 24,
   "id": "f1968af5",
   "metadata": {},
   "outputs": [],
   "source": [
    "embs2 = None\n",
    "labels2 = []\n",
    "for i in test_dataloader:\n",
    "    I, L = i\n",
    "    labels2.append(L)\n",
    "    emb = model_loaded(I)\n",
    "    if embs2 is None:\n",
    "        embs2 = emb\n",
    "    else:\n",
    "        embs2 = torch.cat((embs2, emb), dim=0)"
   ]
  },
  {
   "cell_type": "code",
   "execution_count": 25,
   "id": "fc38429c",
   "metadata": {},
   "outputs": [],
   "source": [
    "import faiss"
   ]
  },
  {
   "cell_type": "code",
   "execution_count": 26,
   "id": "db0a5329",
   "metadata": {},
   "outputs": [],
   "source": [
    "embs = embs1"
   ]
  },
  {
   "cell_type": "code",
   "execution_count": 27,
   "id": "394225f7",
   "metadata": {},
   "outputs": [],
   "source": [
    "index1 = faiss.IndexFlatL2(embs.shape[1])  # Assuming embs.shape[1] represents the dimensionality of the embeddings\n",
    "index1.add(embs)\n",
    "\n",
    "nlist = 100  # Number of cells/buckets\n",
    "quantizer = faiss.IndexFlatL2(embs.shape[1])  # Quantizer index (same as IndexFlatL2)\n",
    "index2 = faiss.IndexIVFFlat(quantizer, embs.shape[1], nlist)\n",
    "index2.train(embs)\n",
    "index2.add(embs)\n",
    "\n",
    "index3 = faiss.IndexHNSWFlat(embs.shape[1], 32)  # M = 32 for the HNSW index\n",
    "index3.add(embs)\n",
    "\n",
    "nbits = 8  # Number of bits for the LSH hash\n",
    "index4 = faiss.IndexLSH(embs.shape[1], nbits)\n",
    "index4.add(embs)\n"
   ]
  },
  {
   "cell_type": "code",
   "execution_count": 28,
   "id": "e2e16c97",
   "metadata": {},
   "outputs": [],
   "source": [
    "def evaluatewithfaiss(embs,index):\n",
    "    TOTAL = len(embs)\n",
    "    CORRECT = 0\n",
    "    start = time.time()\n",
    "    for idx,emb in enumerate(embs):\n",
    "        label = index.search(emb.detach().reshape(1,-1),1)[1][0][0]\n",
    "        CORRECT += labels1[label]==labels2[idx]\n",
    "    return f'{(CORRECT/TOTAL*100).item()}',f'TIME = {time.time()-start} SECONDS'\n",
    "        "
   ]
  },
  {
   "cell_type": "code",
   "execution_count": 29,
   "id": "f0a5a4ce",
   "metadata": {},
   "outputs": [
    {
     "name": "stdout",
     "output_type": "stream",
     "text": [
      "IndexFlatL2 : ('97.0112075805664', 'TIME = 0.42181873321533203 SECONDS')\n",
      "IndexIVFFlat : ('96.63760375976562', 'TIME = 0.14630413055419922 SECONDS')\n",
      "IndexHNSWFlat : ('97.0112075805664', 'TIME = 0.21867966651916504 SECONDS')\n",
      "IndexLSH : ('66.62515258789062', 'TIME = 0.11479830741882324 SECONDS')\n"
     ]
    }
   ],
   "source": [
    "print(f'IndexFlatL2 : {evaluatewithfaiss(embs2,index1)}')\n",
    "print(f'IndexIVFFlat : {evaluatewithfaiss(embs2,index2)}')\n",
    "print(f'IndexHNSWFlat : {evaluatewithfaiss(embs2,index3)}')\n",
    "print(f'IndexLSH : {evaluatewithfaiss(embs2,index4)}')"
   ]
  },
  {
   "cell_type": "code",
   "execution_count": 41,
   "id": "a96f75c2",
   "metadata": {},
   "outputs": [],
   "source": [
    "import torch\n",
    "import torchvision.transforms as transforms\n",
    "import cv2\n",
    "from PIL import Image\n",
    "import numpy as np\n",
    "imgs = [\n",
    "    \"./Images/0.jpg\", \"./Images/1.jpg\",\n",
    "    \"./Images/2.jpg\", \"./Images/3.jpg\",\n",
    "    \"./Images/4.png\", \"./Images/5.jpg\",\n",
    "    \"./Images/6.png\"\n",
    "]\n",
    "x = [np.array(Image.open(img)) for img in imgs]  # Open image without conversion\n",
    "y = [Image.open(img) for img in imgs]  # Open image without conversion\n",
    "\n",
    "transform = transforms.Compose([\n",
    "    transforms.Grayscale(),\n",
    "    transforms.Resize((224, 224)),\n",
    "    transforms.ToTensor()\n",
    "])\n"
   ]
  },
  {
   "cell_type": "code",
   "execution_count": 54,
   "id": "ff915066",
   "metadata": {},
   "outputs": [],
   "source": [
    "labelsd = {'0':\"AADHAR\",'1':'PAN','2':'NEWS ARTICLE','3':'INVOICE'}"
   ]
  },
  {
   "cell_type": "code",
   "execution_count": 59,
   "id": "52b74b71",
   "metadata": {},
   "outputs": [],
   "source": [
    "th = 0\n",
    "while True:\n",
    "    frame = cv2.resize(x[th], (900, 900))\n",
    "    frame = cv2.cvtColor(frame, cv2.COLOR_RGB2BGR)  # Convert RGB to BGR for OpenCV display\n",
    "    rect_height = 100\n",
    "    cv2.rectangle(frame, (0, 0), (frame.shape[1], rect_height), (0, 0, 0), -1)\n",
    "    image_tensor = transform(y[th])\n",
    "    image_tensor = image_tensor.unsqueeze(0)\n",
    "    emb = model_loaded(image_tensor)\n",
    "    label = index2.search(emb.detach().reshape(1,-1),1)[1][0][0]\n",
    "    value = labelsd[str(labels1[label])]\n",
    "    text = f\"TYPE : {value}\"\n",
    "    text_size, _ = cv2.getTextSize(text, cv2.FONT_HERSHEY_SIMPLEX, 2, 5)\n",
    "    text_x = 10\n",
    "    text_y = int(rect_height / 2) + int(text_size[1] / 2)\n",
    "    cv2.putText(frame, text, (text_x, text_y), cv2.FONT_HERSHEY_SIMPLEX, 2, (0, 255, 0), 5)\n",
    "    \n",
    "    cv2.imshow('DOCUMENT IDENTIFICATION', frame)\n",
    "    k = cv2.waitKey()\n",
    "    if k == 27:\n",
    "        break\n",
    "    elif k == 110 and th < 15:\n",
    "        if th + 1 == len(imgs):\n",
    "            th = 0\n",
    "        else:\n",
    "            th += 1\n",
    "            \n",
    "    elif k == 112 and th > 0:\n",
    "        if th - 1 != -1:\n",
    "            th -= 1\n",
    "\n",
    "cv2.destroyAllWindows()\n",
    "\n"
   ]
  }
 ],
 "metadata": {
  "kernelspec": {
   "display_name": "Python 3",
   "language": "python",
   "name": "python3"
  },
  "language_info": {
   "codemirror_mode": {
    "name": "ipython",
    "version": 3
   },
   "file_extension": ".py",
   "mimetype": "text/x-python",
   "name": "python",
   "nbconvert_exporter": "python",
   "pygments_lexer": "ipython3",
   "version": "3.8.8"
  }
 },
 "nbformat": 4,
 "nbformat_minor": 5
}
